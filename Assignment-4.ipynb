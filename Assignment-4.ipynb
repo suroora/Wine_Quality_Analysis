{
 "cells": [
  {
   "cell_type": "markdown",
   "id": "331ca12e",
   "metadata": {},
   "source": [
    "<h2><center>Assignment - 4</center></h2>"
   ]
  },
  {
   "cell_type": "code",
   "execution_count": 29,
   "id": "953df809",
   "metadata": {},
   "outputs": [],
   "source": [
    "# import required Library\n",
    "import pandas as pd\n",
    "import numpy as np\n"
   ]
  },
  {
   "cell_type": "markdown",
   "id": "aaf0afb6",
   "metadata": {},
   "source": [
    "#### Q1. 1. Load the dataset and handle any missing data by replacing null values with the mean value of the respective column. (Score 2)"
   ]
  },
  {
   "cell_type": "code",
   "execution_count": 30,
   "id": "35521b20",
   "metadata": {},
   "outputs": [
    {
     "data": {
      "text/html": [
       "<div>\n",
       "<style scoped>\n",
       "    .dataframe tbody tr th:only-of-type {\n",
       "        vertical-align: middle;\n",
       "    }\n",
       "\n",
       "    .dataframe tbody tr th {\n",
       "        vertical-align: top;\n",
       "    }\n",
       "\n",
       "    .dataframe thead th {\n",
       "        text-align: right;\n",
       "    }\n",
       "</style>\n",
       "<table border=\"1\" class=\"dataframe\">\n",
       "  <thead>\n",
       "    <tr style=\"text-align: right;\">\n",
       "      <th></th>\n",
       "      <th>fixed acidity;\"volatile acidity\";\"citric acid\";\"residual sugar\";\"chlorides\";\"free sulfur dioxide\";\"total sulfur dioxide\";\"density\";\"pH\";\"sulphates\";\"alcohol\";\"quality\"</th>\n",
       "    </tr>\n",
       "  </thead>\n",
       "  <tbody>\n",
       "    <tr>\n",
       "      <th>0</th>\n",
       "      <td>7.4;0.7;0;1.9;0.076;11;34;0.9978;3.51;0.56;9.4;5</td>\n",
       "    </tr>\n",
       "    <tr>\n",
       "      <th>1</th>\n",
       "      <td>7.8;0.88;0;2.6;0.098;25;67;0.9968;3.2;0.68;9.8;5</td>\n",
       "    </tr>\n",
       "    <tr>\n",
       "      <th>2</th>\n",
       "      <td>7.8;0.76;0.04;2.3;0.092;15;54;0.997;3.26;0.65;...</td>\n",
       "    </tr>\n",
       "    <tr>\n",
       "      <th>3</th>\n",
       "      <td>11.2;0.28;0.56;1.9;0.075;17;60;0.998;3.16;0.58...</td>\n",
       "    </tr>\n",
       "    <tr>\n",
       "      <th>4</th>\n",
       "      <td>7.4;0.7;0;1.9;0.076;11;34;0.9978;3.51;0.56;9.4;5</td>\n",
       "    </tr>\n",
       "  </tbody>\n",
       "</table>\n",
       "</div>"
      ],
      "text/plain": [
       "  fixed acidity;\"volatile acidity\";\"citric acid\";\"residual sugar\";\"chlorides\";\"free sulfur dioxide\";\"total sulfur dioxide\";\"density\";\"pH\";\"sulphates\";\"alcohol\";\"quality\"\n",
       "0   7.4;0.7;0;1.9;0.076;11;34;0.9978;3.51;0.56;9.4;5                                                                                                                     \n",
       "1   7.8;0.88;0;2.6;0.098;25;67;0.9968;3.2;0.68;9.8;5                                                                                                                     \n",
       "2  7.8;0.76;0.04;2.3;0.092;15;54;0.997;3.26;0.65;...                                                                                                                     \n",
       "3  11.2;0.28;0.56;1.9;0.075;17;60;0.998;3.16;0.58...                                                                                                                     \n",
       "4   7.4;0.7;0;1.9;0.076;11;34;0.9978;3.51;0.56;9.4;5                                                                                                                     "
      ]
     },
     "execution_count": 30,
     "metadata": {},
     "output_type": "execute_result"
    }
   ],
   "source": [
    "df = pd.read_csv('winequality-red.csv')\n",
    "df.head(5)"
   ]
  },
  {
   "cell_type": "code",
   "execution_count": 31,
   "id": "a47192f7",
   "metadata": {},
   "outputs": [],
   "source": [
    "# load data with proper formate\n",
    "for sep in [',',';','\\t']:\n",
    "    df= pd.read_csv(\"winequality-red.csv\",sep=sep)\n",
    "    if df.shape[1] >=10 :\n",
    "        break"
   ]
  },
  {
   "cell_type": "code",
   "execution_count": 32,
   "id": "de4d65f3",
   "metadata": {},
   "outputs": [
    {
     "data": {
      "text/html": [
       "<div>\n",
       "<style scoped>\n",
       "    .dataframe tbody tr th:only-of-type {\n",
       "        vertical-align: middle;\n",
       "    }\n",
       "\n",
       "    .dataframe tbody tr th {\n",
       "        vertical-align: top;\n",
       "    }\n",
       "\n",
       "    .dataframe thead th {\n",
       "        text-align: right;\n",
       "    }\n",
       "</style>\n",
       "<table border=\"1\" class=\"dataframe\">\n",
       "  <thead>\n",
       "    <tr style=\"text-align: right;\">\n",
       "      <th></th>\n",
       "      <th>fixed acidity</th>\n",
       "      <th>volatile acidity</th>\n",
       "      <th>citric acid</th>\n",
       "      <th>residual sugar</th>\n",
       "      <th>chlorides</th>\n",
       "      <th>free sulfur dioxide</th>\n",
       "      <th>total sulfur dioxide</th>\n",
       "      <th>density</th>\n",
       "      <th>pH</th>\n",
       "      <th>sulphates</th>\n",
       "      <th>alcohol</th>\n",
       "      <th>quality</th>\n",
       "    </tr>\n",
       "  </thead>\n",
       "  <tbody>\n",
       "    <tr>\n",
       "      <th>0</th>\n",
       "      <td>7.4</td>\n",
       "      <td>0.700</td>\n",
       "      <td>0.00</td>\n",
       "      <td>1.9</td>\n",
       "      <td>0.076</td>\n",
       "      <td>11.0</td>\n",
       "      <td>34.0</td>\n",
       "      <td>0.99780</td>\n",
       "      <td>3.51</td>\n",
       "      <td>0.56</td>\n",
       "      <td>9.4</td>\n",
       "      <td>5</td>\n",
       "    </tr>\n",
       "    <tr>\n",
       "      <th>1</th>\n",
       "      <td>7.8</td>\n",
       "      <td>0.880</td>\n",
       "      <td>0.00</td>\n",
       "      <td>2.6</td>\n",
       "      <td>0.098</td>\n",
       "      <td>25.0</td>\n",
       "      <td>67.0</td>\n",
       "      <td>0.99680</td>\n",
       "      <td>3.20</td>\n",
       "      <td>0.68</td>\n",
       "      <td>9.8</td>\n",
       "      <td>5</td>\n",
       "    </tr>\n",
       "    <tr>\n",
       "      <th>2</th>\n",
       "      <td>7.8</td>\n",
       "      <td>0.760</td>\n",
       "      <td>0.04</td>\n",
       "      <td>2.3</td>\n",
       "      <td>0.092</td>\n",
       "      <td>15.0</td>\n",
       "      <td>54.0</td>\n",
       "      <td>0.99700</td>\n",
       "      <td>3.26</td>\n",
       "      <td>0.65</td>\n",
       "      <td>9.8</td>\n",
       "      <td>5</td>\n",
       "    </tr>\n",
       "    <tr>\n",
       "      <th>3</th>\n",
       "      <td>11.2</td>\n",
       "      <td>0.280</td>\n",
       "      <td>0.56</td>\n",
       "      <td>1.9</td>\n",
       "      <td>0.075</td>\n",
       "      <td>17.0</td>\n",
       "      <td>60.0</td>\n",
       "      <td>0.99800</td>\n",
       "      <td>3.16</td>\n",
       "      <td>0.58</td>\n",
       "      <td>9.8</td>\n",
       "      <td>6</td>\n",
       "    </tr>\n",
       "    <tr>\n",
       "      <th>4</th>\n",
       "      <td>7.4</td>\n",
       "      <td>0.700</td>\n",
       "      <td>0.00</td>\n",
       "      <td>1.9</td>\n",
       "      <td>0.076</td>\n",
       "      <td>11.0</td>\n",
       "      <td>34.0</td>\n",
       "      <td>0.99780</td>\n",
       "      <td>3.51</td>\n",
       "      <td>0.56</td>\n",
       "      <td>9.4</td>\n",
       "      <td>5</td>\n",
       "    </tr>\n",
       "    <tr>\n",
       "      <th>...</th>\n",
       "      <td>...</td>\n",
       "      <td>...</td>\n",
       "      <td>...</td>\n",
       "      <td>...</td>\n",
       "      <td>...</td>\n",
       "      <td>...</td>\n",
       "      <td>...</td>\n",
       "      <td>...</td>\n",
       "      <td>...</td>\n",
       "      <td>...</td>\n",
       "      <td>...</td>\n",
       "      <td>...</td>\n",
       "    </tr>\n",
       "    <tr>\n",
       "      <th>1594</th>\n",
       "      <td>6.2</td>\n",
       "      <td>0.600</td>\n",
       "      <td>0.08</td>\n",
       "      <td>2.0</td>\n",
       "      <td>0.090</td>\n",
       "      <td>32.0</td>\n",
       "      <td>44.0</td>\n",
       "      <td>0.99490</td>\n",
       "      <td>3.45</td>\n",
       "      <td>0.58</td>\n",
       "      <td>10.5</td>\n",
       "      <td>5</td>\n",
       "    </tr>\n",
       "    <tr>\n",
       "      <th>1595</th>\n",
       "      <td>5.9</td>\n",
       "      <td>0.550</td>\n",
       "      <td>0.10</td>\n",
       "      <td>2.2</td>\n",
       "      <td>0.062</td>\n",
       "      <td>39.0</td>\n",
       "      <td>51.0</td>\n",
       "      <td>0.99512</td>\n",
       "      <td>3.52</td>\n",
       "      <td>0.76</td>\n",
       "      <td>11.2</td>\n",
       "      <td>6</td>\n",
       "    </tr>\n",
       "    <tr>\n",
       "      <th>1596</th>\n",
       "      <td>6.3</td>\n",
       "      <td>0.510</td>\n",
       "      <td>0.13</td>\n",
       "      <td>2.3</td>\n",
       "      <td>0.076</td>\n",
       "      <td>29.0</td>\n",
       "      <td>40.0</td>\n",
       "      <td>0.99574</td>\n",
       "      <td>3.42</td>\n",
       "      <td>0.75</td>\n",
       "      <td>11.0</td>\n",
       "      <td>6</td>\n",
       "    </tr>\n",
       "    <tr>\n",
       "      <th>1597</th>\n",
       "      <td>5.9</td>\n",
       "      <td>0.645</td>\n",
       "      <td>0.12</td>\n",
       "      <td>2.0</td>\n",
       "      <td>0.075</td>\n",
       "      <td>32.0</td>\n",
       "      <td>44.0</td>\n",
       "      <td>0.99547</td>\n",
       "      <td>3.57</td>\n",
       "      <td>0.71</td>\n",
       "      <td>10.2</td>\n",
       "      <td>5</td>\n",
       "    </tr>\n",
       "    <tr>\n",
       "      <th>1598</th>\n",
       "      <td>6.0</td>\n",
       "      <td>0.310</td>\n",
       "      <td>0.47</td>\n",
       "      <td>3.6</td>\n",
       "      <td>0.067</td>\n",
       "      <td>18.0</td>\n",
       "      <td>42.0</td>\n",
       "      <td>0.99549</td>\n",
       "      <td>3.39</td>\n",
       "      <td>0.66</td>\n",
       "      <td>11.0</td>\n",
       "      <td>6</td>\n",
       "    </tr>\n",
       "  </tbody>\n",
       "</table>\n",
       "<p>1599 rows × 12 columns</p>\n",
       "</div>"
      ],
      "text/plain": [
       "      fixed acidity  volatile acidity  citric acid  residual sugar  chlorides  \\\n",
       "0               7.4             0.700         0.00             1.9      0.076   \n",
       "1               7.8             0.880         0.00             2.6      0.098   \n",
       "2               7.8             0.760         0.04             2.3      0.092   \n",
       "3              11.2             0.280         0.56             1.9      0.075   \n",
       "4               7.4             0.700         0.00             1.9      0.076   \n",
       "...             ...               ...          ...             ...        ...   \n",
       "1594            6.2             0.600         0.08             2.0      0.090   \n",
       "1595            5.9             0.550         0.10             2.2      0.062   \n",
       "1596            6.3             0.510         0.13             2.3      0.076   \n",
       "1597            5.9             0.645         0.12             2.0      0.075   \n",
       "1598            6.0             0.310         0.47             3.6      0.067   \n",
       "\n",
       "      free sulfur dioxide  total sulfur dioxide  density    pH  sulphates  \\\n",
       "0                    11.0                  34.0  0.99780  3.51       0.56   \n",
       "1                    25.0                  67.0  0.99680  3.20       0.68   \n",
       "2                    15.0                  54.0  0.99700  3.26       0.65   \n",
       "3                    17.0                  60.0  0.99800  3.16       0.58   \n",
       "4                    11.0                  34.0  0.99780  3.51       0.56   \n",
       "...                   ...                   ...      ...   ...        ...   \n",
       "1594                 32.0                  44.0  0.99490  3.45       0.58   \n",
       "1595                 39.0                  51.0  0.99512  3.52       0.76   \n",
       "1596                 29.0                  40.0  0.99574  3.42       0.75   \n",
       "1597                 32.0                  44.0  0.99547  3.57       0.71   \n",
       "1598                 18.0                  42.0  0.99549  3.39       0.66   \n",
       "\n",
       "      alcohol  quality  \n",
       "0         9.4        5  \n",
       "1         9.8        5  \n",
       "2         9.8        5  \n",
       "3         9.8        6  \n",
       "4         9.4        5  \n",
       "...       ...      ...  \n",
       "1594     10.5        5  \n",
       "1595     11.2        6  \n",
       "1596     11.0        6  \n",
       "1597     10.2        5  \n",
       "1598     11.0        6  \n",
       "\n",
       "[1599 rows x 12 columns]"
      ]
     },
     "execution_count": 32,
     "metadata": {},
     "output_type": "execute_result"
    }
   ],
   "source": [
    "df"
   ]
  },
  {
   "cell_type": "code",
   "execution_count": 33,
   "id": "ab2e4593",
   "metadata": {},
   "outputs": [
    {
     "data": {
      "text/plain": [
       "(1599, 12)"
      ]
     },
     "execution_count": 33,
     "metadata": {},
     "output_type": "execute_result"
    }
   ],
   "source": [
    "df.shape"
   ]
  },
  {
   "cell_type": "code",
   "execution_count": 34,
   "id": "4af5bae3",
   "metadata": {},
   "outputs": [
    {
     "data": {
      "text/plain": [
       "fixed acidity           0\n",
       "volatile acidity        0\n",
       "citric acid             0\n",
       "residual sugar          0\n",
       "chlorides               0\n",
       "free sulfur dioxide     0\n",
       "total sulfur dioxide    0\n",
       "density                 0\n",
       "pH                      0\n",
       "sulphates               0\n",
       "alcohol                 0\n",
       "quality                 0\n",
       "dtype: int64"
      ]
     },
     "execution_count": 34,
     "metadata": {},
     "output_type": "execute_result"
    }
   ],
   "source": [
    "# Handling missing values\n",
    "df.isnull().sum()"
   ]
  },
  {
   "cell_type": "markdown",
   "id": "91f84cae",
   "metadata": {},
   "source": [
    "#### there is no missing values in our dataset, even if we can convert Nan values with mean for better result"
   ]
  },
  {
   "cell_type": "code",
   "execution_count": 35,
   "id": "894ecd56",
   "metadata": {},
   "outputs": [
    {
     "data": {
      "text/plain": [
       "['fixed acidity',\n",
       " 'volatile acidity',\n",
       " 'citric acid',\n",
       " 'residual sugar',\n",
       " 'chlorides',\n",
       " 'free sulfur dioxide',\n",
       " 'total sulfur dioxide',\n",
       " 'density',\n",
       " 'pH',\n",
       " 'sulphates',\n",
       " 'alcohol',\n",
       " 'quality']"
      ]
     },
     "execution_count": 35,
     "metadata": {},
     "output_type": "execute_result"
    }
   ],
   "source": [
    "num_feature = df.select_dtypes(include=[np.number]).columns.to_list()\n",
    "num_feature"
   ]
  },
  {
   "cell_type": "code",
   "execution_count": 36,
   "id": "6a91f524",
   "metadata": {},
   "outputs": [],
   "source": [
    "for i in num_feature:\n",
    "    if df[i].isna().any():\n",
    "        df[i].fillna(df[i].mean(),inplace=True)"
   ]
  },
  {
   "cell_type": "markdown",
   "id": "b23b8c70",
   "metadata": {},
   "source": [
    "#### Q2. Extract the following columns as vectors: alcohol,citric acid. (Score 2)"
   ]
  },
  {
   "cell_type": "code",
   "execution_count": 46,
   "id": "2b747aab",
   "metadata": {},
   "outputs": [
    {
     "data": {
      "text/html": [
       "<div>\n",
       "<style scoped>\n",
       "    .dataframe tbody tr th:only-of-type {\n",
       "        vertical-align: middle;\n",
       "    }\n",
       "\n",
       "    .dataframe tbody tr th {\n",
       "        vertical-align: top;\n",
       "    }\n",
       "\n",
       "    .dataframe thead th {\n",
       "        text-align: right;\n",
       "    }\n",
       "</style>\n",
       "<table border=\"1\" class=\"dataframe\">\n",
       "  <thead>\n",
       "    <tr style=\"text-align: right;\">\n",
       "      <th></th>\n",
       "      <th>alcohol</th>\n",
       "      <th>citric acid</th>\n",
       "    </tr>\n",
       "  </thead>\n",
       "  <tbody>\n",
       "    <tr>\n",
       "      <th>0</th>\n",
       "      <td>9.4</td>\n",
       "      <td>0.00</td>\n",
       "    </tr>\n",
       "    <tr>\n",
       "      <th>1</th>\n",
       "      <td>9.8</td>\n",
       "      <td>0.00</td>\n",
       "    </tr>\n",
       "    <tr>\n",
       "      <th>2</th>\n",
       "      <td>9.8</td>\n",
       "      <td>0.04</td>\n",
       "    </tr>\n",
       "    <tr>\n",
       "      <th>3</th>\n",
       "      <td>9.8</td>\n",
       "      <td>0.56</td>\n",
       "    </tr>\n",
       "    <tr>\n",
       "      <th>4</th>\n",
       "      <td>9.4</td>\n",
       "      <td>0.00</td>\n",
       "    </tr>\n",
       "    <tr>\n",
       "      <th>...</th>\n",
       "      <td>...</td>\n",
       "      <td>...</td>\n",
       "    </tr>\n",
       "    <tr>\n",
       "      <th>1594</th>\n",
       "      <td>10.5</td>\n",
       "      <td>0.08</td>\n",
       "    </tr>\n",
       "    <tr>\n",
       "      <th>1595</th>\n",
       "      <td>11.2</td>\n",
       "      <td>0.10</td>\n",
       "    </tr>\n",
       "    <tr>\n",
       "      <th>1596</th>\n",
       "      <td>11.0</td>\n",
       "      <td>0.13</td>\n",
       "    </tr>\n",
       "    <tr>\n",
       "      <th>1597</th>\n",
       "      <td>10.2</td>\n",
       "      <td>0.12</td>\n",
       "    </tr>\n",
       "    <tr>\n",
       "      <th>1598</th>\n",
       "      <td>11.0</td>\n",
       "      <td>0.47</td>\n",
       "    </tr>\n",
       "  </tbody>\n",
       "</table>\n",
       "<p>1599 rows × 2 columns</p>\n",
       "</div>"
      ],
      "text/plain": [
       "      alcohol  citric acid\n",
       "0         9.4         0.00\n",
       "1         9.8         0.00\n",
       "2         9.8         0.04\n",
       "3         9.8         0.56\n",
       "4         9.4         0.00\n",
       "...       ...          ...\n",
       "1594     10.5         0.08\n",
       "1595     11.2         0.10\n",
       "1596     11.0         0.13\n",
       "1597     10.2         0.12\n",
       "1598     11.0         0.47\n",
       "\n",
       "[1599 rows x 2 columns]"
      ]
     },
     "execution_count": 46,
     "metadata": {},
     "output_type": "execute_result"
    }
   ],
   "source": [
    "new_df = df[[\"alcohol\", \"citric acid\"]]\n",
    "new_df"
   ]
  },
  {
   "cell_type": "code",
   "execution_count": 47,
   "id": "394cf7c9",
   "metadata": {},
   "outputs": [],
   "source": [
    "vector = new_df[[\"alcohol\", \"citric acid\"]].to_numpy()"
   ]
  },
  {
   "cell_type": "code",
   "execution_count": 48,
   "id": "511faa06",
   "metadata": {},
   "outputs": [
    {
     "name": "stdout",
     "output_type": "stream",
     "text": [
      "Converted vector (NumPy array):\n",
      " [[ 9.4   0.  ]\n",
      " [ 9.8   0.  ]\n",
      " [ 9.8   0.04]\n",
      " ...\n",
      " [11.    0.13]\n",
      " [10.2   0.12]\n",
      " [11.    0.47]]\n"
     ]
    }
   ],
   "source": [
    "print(\"Converted vector (NumPy array):\\n\", vector)"
   ]
  },
  {
   "cell_type": "code",
   "execution_count": 49,
   "id": "3980f1ce",
   "metadata": {},
   "outputs": [
    {
     "name": "stdout",
     "output_type": "stream",
     "text": [
      "\n",
      "Type of the result: <class 'numpy.ndarray'>\n"
     ]
    }
   ],
   "source": [
    "print(\"\\nType of the result:\", type(vector))"
   ]
  },
  {
   "cell_type": "markdown",
   "id": "186208f6",
   "metadata": {},
   "source": [
    "#### Q3. Select two features (e.g., alcohol and density) from the dataset and calculate the covariance matrix using np.cov(X.T), where X is the feature matrix consisting of the selected columns.(Score 2)"
   ]
  },
  {
   "cell_type": "code",
   "execution_count": 55,
   "id": "9dbb2c1d",
   "metadata": {},
   "outputs": [],
   "source": [
    "X = df[[\"alcohol\",\"density\"]].to_numpy()"
   ]
  },
  {
   "cell_type": "code",
   "execution_count": 56,
   "id": "61623052",
   "metadata": {},
   "outputs": [
    {
     "data": {
      "text/plain": [
       "array([[ 9.4    ,  0.9978 ],\n",
       "       [ 9.8    ,  0.9968 ],\n",
       "       [ 9.8    ,  0.997  ],\n",
       "       ...,\n",
       "       [11.     ,  0.99574],\n",
       "       [10.2    ,  0.99547],\n",
       "       [11.     ,  0.99549]], shape=(1599, 2))"
      ]
     },
     "execution_count": 56,
     "metadata": {},
     "output_type": "execute_result"
    }
   ],
   "source": [
    "X"
   ]
  },
  {
   "cell_type": "code",
   "execution_count": 60,
   "id": "5fdb997e",
   "metadata": {},
   "outputs": [
    {
     "data": {
      "text/plain": [
       "array([[ 1.13564740e+00, -9.97951790e-04],\n",
       "       [-9.97951790e-04,  3.56202945e-06]])"
      ]
     },
     "execution_count": 60,
     "metadata": {},
     "output_type": "execute_result"
    }
   ],
   "source": [
    "cov_mat = np.cov(X.T)\n",
    "cov_mat"
   ]
  },
  {
   "cell_type": "markdown",
   "id": "72e44faa",
   "metadata": {},
   "source": [
    "covarience(alcohol,alcohol) = 1.13565 - variance of alcohol values. <br>\n",
    "covarience(alchoho , density) = -9.97951790e-04 - small negative covariance  <br>\n",
    "covarience(density,density) = -9.97951790e-04 - variance of density values <br>\n",
    "covarience(density,alchohol) = 3.56202945e\n",
    "\n",
    "**Observation:**<br>\n",
    "     1.alcohol tends to increase slightly as density decreases, hence negative covariance<br>\n",
    "     2. variance of alcohol across all wines means alcohol values are spread out quite a lot<br>\n",
    "     3.Negative → when alcohol goes up, density tends to go down (inverse relationship)."
   ]
  },
  {
   "cell_type": "markdown",
   "id": "2b5b639b",
   "metadata": {},
   "source": [
    "#### Q4. Perform eigen decomposition on the covariance matrix you computed in question 3 Identify and interpret the results:Identify the top 2 eigenvalues of the covariance matrix,Identify the corresponding eigenvectors.(Score 2)"
   ]
  },
  {
   "cell_type": "code",
   "execution_count": null,
   "id": "70fda3ea",
   "metadata": {},
   "outputs": [
    {
     "name": "stdout",
     "output_type": "stream",
     "text": [
      "[1.13564827e+00 2.68507580e-06] [[ 9.99999614e-01  8.78753184e-04]\n",
      " [-8.78753184e-04  9.99999614e-01]]\n"
     ]
    }
   ],
   "source": [
    "#Eigenvalues and eigenvectors of the covariance matrix.\n",
    "eigvals, eigvecs = np.linalg.eig(cov_mat)\n",
    "# sort descending\n",
    "order = np.argsort(eigvals)[::-1]\n",
    "eigvals_sorted = eigvals[order]\n",
    "eigvecs_sorted = eigvecs[:, order]\n",
    "print(eigvals_sorted,eigvecs_sorted)"
   ]
  },
  {
   "cell_type": "markdown",
   "id": "154501fb",
   "metadata": {},
   "source": [
    "**Observation**<br>\n",
    "1.The first eigenvalue  1.13565 is much larger than 2.685e-06. That means nearly all the variance in the 2D space [alcohol, density] is along the first eigenvector.<br>\n",
    "2.The first eigenvector ≈ [0.9999996, -0.00087875] points almost entirely along the alcohol axis (very close to [1, 0]). So alcohol explains almost all variance between these two features; density contributes negligibly to the principal component."
   ]
  },
  {
   "cell_type": "markdown",
   "id": "ca45ddaf",
   "metadata": {},
   "source": [
    "#### Q5. Which wine quality is most common in the dataset? How can you interpret the distribution of wine quality scores? (Score 2)"
   ]
  },
  {
   "cell_type": "code",
   "execution_count": 64,
   "id": "0734ad88",
   "metadata": {},
   "outputs": [
    {
     "data": {
      "text/plain": [
       "quality\n",
       "3     10\n",
       "4     53\n",
       "5    681\n",
       "6    638\n",
       "7    199\n",
       "8     18\n",
       "Name: count, dtype: int64"
      ]
     },
     "execution_count": 64,
     "metadata": {},
     "output_type": "execute_result"
    }
   ],
   "source": [
    "Quality = df[\"quality\"].value_counts().sort_index()\n",
    "Quality"
   ]
  },
  {
   "cell_type": "code",
   "execution_count": 65,
   "id": "a204e780",
   "metadata": {},
   "outputs": [
    {
     "name": "stdout",
     "output_type": "stream",
     "text": [
      "5\n"
     ]
    }
   ],
   "source": [
    "most_common_quality = Quality.idxmax()\n",
    "print(most_common_quality)"
   ]
  },
  {
   "cell_type": "markdown",
   "id": "f869775c",
   "metadata": {},
   "source": [
    "Most wines have quality = 5 (681 samples), followed by 6 (638). The distribution is concentrated around 5–6, with few 3s and 8s."
   ]
  },
  {
   "cell_type": "markdown",
   "id": "dc2227a3",
   "metadata": {},
   "source": [
    "### Visualisation<br>\n",
    "\n",
    "1.Histogram of Wine Quality<br>\n",
    "2.Scatter plot of alcohol vs density with eigenvectors"
   ]
  },
  {
   "cell_type": "code",
   "execution_count": 71,
   "id": "26d8260f",
   "metadata": {},
   "outputs": [
    {
     "data": {
      "image/png": "[encoded data removed]",
      "text/plain": [
       "<Figure size 600x400 with 1 Axes>"
      ]
     },
     "metadata": {},
     "output_type": "display_data"
    }
   ],
   "source": [
    "#1.Histogram of Wine Quality\n",
    "import matplotlib.pyplot as plt\n",
    "quality_counts = df[\"quality\"].value_counts().sort_index()\n",
    "\n",
    "plt.figure(figsize=(6,4))\n",
    "plt.bar(quality_counts.index, quality_counts.values, color=\"skyblue\", edgecolor=\"black\")\n",
    "plt.xlabel(\"Wine Quality Score\")\n",
    "plt.ylabel(\"Count\")\n",
    "plt.title(\"Distribution of Wine Quality (Red Wine)\")\n",
    "plt.show()"
   ]
  },
  {
   "cell_type": "markdown",
   "id": "da43e24b",
   "metadata": {},
   "source": [
    "##### Histogram (Wine Quality Distribution)<br>\n",
    "\n",
    "Most common quality score is 5 (681 wines), followed closely by 6 (638 wines).<br>\n",
    "\n",
    "Very few wines are rated as 3, 4, or 8.<br>\n",
    "\n",
    "This shows the dataset is centered around medium-quality wines (scores 5–6) with fewer very low- or high-quality wines.<br>\n",
    "\n",
    "Interpretation: The quality ratings are skewed toward the middle; the dataset may not represent extreme-quality wines well.<br>\n"
   ]
  },
  {
   "cell_type": "code",
   "execution_count": 73,
   "id": "baeda069",
   "metadata": {},
   "outputs": [
    {
     "data": {
      "image/png": "[encoded data removed]",
      "text/plain": [
       "<Figure size 700x600 with 1 Axes>"
      ]
     },
     "metadata": {},
     "output_type": "display_data"
    }
   ],
   "source": [
    "#2.Scatter plot\n",
    "plt.figure(figsize=(7,6))\n",
    "plt.scatter(df[\"alcohol\"], df[\"density\"], alpha=0.4, s=15, color=\"gray\")\n",
    "\n",
    "# Plot eigenvectors from mean point\n",
    "mean_vec = np.mean(X, axis=0)\n",
    "for i in range(2):\n",
    "    vec = eigvecs[:, i] * eigvals[i] * 5   # scale for visibility\n",
    "    plt.plot([mean_vec[0], mean_vec[0] + vec[0]],\n",
    "             [mean_vec[1], mean_vec[1] + vec[1]],\n",
    "             linewidth=3, label=f\"Eigenvector {i+1}\")\n",
    "\n",
    "plt.xlabel(\"Alcohol\")\n",
    "plt.ylabel(\"Density\")\n",
    "plt.title(\"Alcohol vs Density with Eigenvectors\")\n",
    "plt.legend()\n",
    "plt.grid(True, linestyle=\"--\", alpha=0.6)\n",
    "plt.show()"
   ]
  },
  {
   "cell_type": "markdown",
   "id": "68bf721e",
   "metadata": {},
   "source": [
    "##### Scatter Plot (Alcohol vs Density with Eigenvectors)<br>\n",
    "\n",
    "General trend: as alcohol increases, density decreases (negative relationship).<br>\n",
    "\n",
    "This is confirmed by the negative covariance (-0.000998).<br>\n",
    "\n",
    "The first eigenvector (long arrow) lies almost along the alcohol axis → meaning alcohol explains nearly all the variation in this 2D feature space.<br>\n",
    "\n",
    "The second eigenvector (tiny arrow) contributes almost no variance (eigenvalue ≈ 0).<br>\n",
    "\n",
    "Interpretation: Alcohol is the dominant factor compared to density when explaining variation among wines."
   ]
  },
  {
   "cell_type": "markdown",
   "id": "5dd93d36",
   "metadata": {},
   "source": []
  }
 ],
 "metadata": {
  "kernelspec": {
   "display_name": "env",
   "language": "python",
   "name": "python3"
  },
  "language_info": {
   "codemirror_mode": {
    "name": "ipython",
    "version": 3
   },
   "file_extension": ".py",
   "mimetype": "text/x-python",
   "name": "python",
   "nbconvert_exporter": "python",
   "pygments_lexer": "ipython3",
   "version": "3.13.5"
  }
 },
 "nbformat": 4,
 "nbformat_minor": 5
}
